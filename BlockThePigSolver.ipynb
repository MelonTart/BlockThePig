{
 "cells": [
  {
   "cell_type": "code",
   "execution_count": 1,
   "metadata": {
    "colab": {},
    "colab_type": "code",
    "id": "6FoY0dTTn8dc"
   },
   "outputs": [],
   "source": [
    "import numpy as np\n",
    "import random"
   ]
  },
  {
   "cell_type": "code",
   "execution_count": 67,
   "metadata": {
    "colab": {},
    "colab_type": "code",
    "id": "9GP5zKTwn9MH"
   },
   "outputs": [],
   "source": [
    "count = 0\n",
    "class Game():\n",
    "    def __init__(self):\n",
    "        self.pig = np.zeros(55)\n",
    "        self.pig[27] = 1\n",
    "        self.stone = np.zeros(55)\n",
    "        self.grass = np.zeros(55)\n",
    "        self.moves = 3\n",
    "        self.gameBoard = None\n",
    "        self.edgespaces = [0,1,2,3,4,5,9,10,14,15,19,20,24,25,29,30,34,35,39,40,44,45,49,50,51,52,53,54,55]\n",
    "        self.chosenMoves = []\n",
    "        self.level = 0\n",
    "    def possibleMoves(self):\n",
    "        arr = []\n",
    "        for x in range(55):\n",
    "            if self.gameBoard[x] == 0:\n",
    "                arr.append(x)\n",
    "        return arr\n",
    "    def lost(self):\n",
    "        for x in range(55):\n",
    "          if self.gameBoard[x] == 2:\n",
    "            old = x\n",
    "            break\n",
    "        if old in self.edgespaces:\n",
    "            return True\n",
    "        else:\n",
    "            return False\n",
    "    def won(self):\n",
    "        x,__ = self.pigNextMoveFF()\n",
    "        if x == None:\n",
    "            return True\n",
    "        else:\n",
    "            return False\n",
    "    def generateGameBoard(self, difficulty):  # 1(easy) to 5(hard)\n",
    "        self.randomGameBoard(difficulty)\n",
    "        if difficulty == 1:\n",
    "            self.gameBoard = np.array([0.,0,0,0,1,0,0,0,1,0,0,0,0,0,0,0,0,1,0,0,0,0,0,0,0,0,0,2,1,0,0,0,0,0,0,0,1,1,0,0,0,0,0,0,0,1,0,0,1,1,0,0,0,0,0])\n",
    "        if difficulty == 2:\n",
    "            self.gameBoard = np.array([0.,0,0,0,0,0,0,0,0,0,0,0,0,0,0,0,0,0,0,0,0,0,1,1,0,0,1,2,1,0,0,0,0,0,1,0,0,0,0,0,0,0,0,0,0,0,0,0,0,0,0,0,0,0,0])\n",
    "        if difficulty == 3:\n",
    "            self.gameBoard = np.array([0.,0,0,0,0,0,0,0,0,0,0,0,0,0,0,0,0,0,0,0,0,0,1,1,0,0,1,2,1,0,0,0,1,0,0,0,0,0,0,0,0,0,0,0,0,0,0,0,0,0,0,0,0,0,0])\n",
    "        if difficulty == 4:\n",
    "            self.gameBoard = np.array([0.,0,0,0,0,0,0,0,0,0,0,0,0,0,0,0,0,0,0,0,0,0,0,1,0,0,1,2,1,0,0,0,1,1,0,0,0,0,0,0,0,0,0,0,0,0,0,0,0,0,0,0,0,0,0])\n",
    "        if difficulty == 5:\n",
    "            self.gameBoard = np.array([0.,1,0,0,0,0,1,0,0,0,1,0,1,0,0,1,0,1,0,0,0,1,0,1,0,0,1,2,1,0,0,0,1,1,0,0,0,0,0,0,0,0,0,0,0,0,0,0,0,0,0,0,0,0,0])\n",
    "        if difficulty == 6:\n",
    "            self.gameBoard = np.array([1., 0, 1, 0, 0, 1, 1, 0, 1, 0, 0, 0, 0, 0, 1, 0, 0, 1, 0, 0, 0, 0, 1,\n",
    "                                      0, 0, 0, 0, 2, 1, 0, 1, 1, 0, 0, 0, 0, 0, 0, 0, 0, 0, 0, 0, 0, 0, 1, 0, 0, 0, 1, 0, 0, 0, 0, 0])\n",
    "        if difficulty == 7:\n",
    "            self.gameBoard = np.array([0., 0, 0, 1, 1, 0, 1, 0, 0, 0, 0, 1, 1, 1, 0, 1, 0, 0, 1, 0, 0, 0, 0,\n",
    "                                       0, 0, 0, 1, 2, 1, 0, 0, 0, 0, 0, 1, 0, 0, 1, 0, 0, 0, 0, 0, 0, 0, 0, 1, 0, 0, 0, 1, 0, 0, 0, 0])\n",
    "        if difficulty == 8:\n",
    "            self.gameBoard = np.array([1., 0, 0, 0, 0, 1, 0, 0, 0, 0, 1, 0, 1, 0, 0, 1, 0, 0, 0, 0, 0, 0, 1,\n",
    "                                       0, 1, 1, 0, 2, 0, 1, 0, 1, 0, 1, 1, 1, 0, 0, 0, 1, 0, 1, 0, 0, 1, 0, 0, 0, 0, 0, 0, 0, 0, 0, 0])\n",
    "        if difficulty == 9:\n",
    "            self.gameBoard = np.array([0., 0, 1, 0, 0, 0, 0, 0, 1, 1, 0, 1, 0, 1, 1, 1, 0, 0, 0, 0, 0, 0, 0,\n",
    "                                       0, 0, 1, 1, 2, 0, 1, 0, 0, 0, 0, 1, 0, 1, 1, 1, 1, 0, 0, 0, 0, 1, 0, 0, 0, 0, 0, 0, 0, 0, 0, 0])\n",
    "        if difficulty == 10:\n",
    "            self.gameBoard = np.array([0., 0, 1, 1, 0, 0, 0, 0, 0, 0, 0, 0, 0, 0, 0, 1, 0, 1, 1, 0, 1, 0, 0,\n",
    "                                       0, 1, 0, 0, 2, 0, 0, 0, 1, 1, 1, 1, 1, 0, 0, 1, 0, 0, 0, 0, 0, 0, 1, 0, 0, 0, 0, 0, 0, 0, 0, 0])\n",
    "        #self.separateGameBoard()\n",
    "\n",
    "    def randomGameBoard(self,difficulty):\n",
    "        self.gameBoard = np.zeros(55)\n",
    "        for x in range(55):\n",
    "            if random.random() > (.60 + (.01 * difficulty)):\n",
    "                self.gameBoard[x] = 1\n",
    "        self.gameBoard[27] = 2\n",
    "        #nextMov, pigLoc = self.pigNextMoveFF()\n",
    "        #if nextMov == None:\n",
    "            #self.randomGameBoard(difficulty)\n",
    "\n",
    "    def printArr(self, arr):\n",
    "        for x in range(11):\n",
    "            if ((x + 1) % 2) == 0:\n",
    "                y = \"  \"\n",
    "            else:\n",
    "                y = \"\"\n",
    "            print(y, arr[(x*5):(x*5)+5])\n",
    "\n",
    "    def pigNextMoveFF(self):\n",
    "        newLoc = None\n",
    "        fillPath = np.zeros(55)\n",
    "        pigLoc = None\n",
    "        for x in range(55):\n",
    "            if self.gameBoard[x] == 2:\n",
    "                pigLoc = x\n",
    "                break\n",
    "        if pigLoc == None:\n",
    "            return None,None\n",
    "        if pigLoc in self.edgespaces:\n",
    "            return (pigLoc , pigLoc)\n",
    "        # if self.pigLoc < 5 or self.pigLoc > 49 or self.pigLoc % 5 == 0 or (self.pigLoc - 4) % 5 == 0: ## this includes all the edges of the gameBoard array\n",
    "            # return 69 # returns none if pig is on edge\n",
    "        #self.printArr(self.gameBoard)\n",
    "        fillPath[pigLoc] = 1\n",
    "        for iteration in range(12):  # flood fill\n",
    "            for loc in range(55):\n",
    "                if fillPath[loc] == iteration + 1:\n",
    "                    if int(str(loc)[len(str(loc)) - 1]) < 6:\n",
    "                        x = -1\n",
    "                    else:\n",
    "                        x = 0\n",
    "                    if (loc - 1) < 55 and (loc - 1) >= 0 and self.gameBoard[loc - 1] == 0 and fillPath[loc - 1] == 0:\n",
    "                        fillPath[loc - 1] = iteration + 2\n",
    "                    if (loc + 1) < 55 and (loc + 1) >= 0 and self.gameBoard[loc + 1] == 0 and fillPath[loc + 1] == 0:\n",
    "                        fillPath[loc + 1] = iteration + 2\n",
    "                    if (loc - 5 + x) < 55 and (loc - 5 + x) >= 0 and self.gameBoard[loc - 5 + x] == 0 and fillPath[loc - 5 + x] == 0:\n",
    "                        fillPath[loc - 5 + x] = iteration + 2\n",
    "                    if (loc - 4 + x) < 55 and (loc - 4 + x) >= 0 and self.gameBoard[loc - 4 + x] == 0 and fillPath[loc - 4 + x] == 0:\n",
    "                        fillPath[loc - 4 + x] = iteration + 2\n",
    "                    if (loc + 5 + x) < 55 and (loc + 5 + x) >= 0 and self.gameBoard[loc + 5 + x] == 0 and fillPath[loc + 5 + x] == 0:\n",
    "                        fillPath[loc + 5 + x] = iteration + 2\n",
    "                    if (loc + 6 + x) < 55 and (loc + 6 + x) >= 0 and self.gameBoard[loc + 6 + x] == 0 and fillPath[loc + 6 + x] == 0:\n",
    "                        fillPath[loc + 6 + x] = iteration + 2\n",
    "                    \n",
    "                    \n",
    "            for loc in range(55):\n",
    "                if loc < 5 or loc > 49 or loc % 5 == 0 or (loc - 4) % 5 == 0:\n",
    "                    if fillPath[loc] > 0:  # next move found\n",
    "\n",
    "                        loc1 = loc\n",
    "                        count = 0\n",
    "                        while fillPath[loc1] != 2:\n",
    "                            count += 1\n",
    "                            if count > 20:\n",
    "                                pass\n",
    "                                #print()\n",
    "                                #self.printArr(self.gameBoard)\n",
    "                                #print()\n",
    "                                #print(\n",
    "                                #    \"value of fillPath[loc1]: \", fillPath[loc1], \" value: \", loc1)\n",
    "                                #game.printArr(fillPath)\n",
    "                            if int(str(loc1)[len(str(loc1)) - 1]) < 5:\n",
    "                                x = -1\n",
    "                            else:\n",
    "                                x = 0\n",
    "                                \n",
    "                            if (loc1 - 1) < 55 and (loc1 - 1) >= 0 and fillPath[loc1 - 1] < fillPath[loc1] and fillPath[loc1 - 1] > 0 and loc % 5 != 0:\n",
    "                                loc1 = loc1 - 1\n",
    "                                continue\n",
    "                            if (loc1 + 1) < 55 and (loc1 + 1) >= 0 and fillPath[loc1 + 1] < fillPath[loc1] and fillPath[loc1 + 1] > 0 and (loc - 4) % 5 != 0:\n",
    "                                loc1 = loc1 + 1\n",
    "                                continue\n",
    "                            if (loc1 - 5 + x) < 55 and (loc1 - 5 + x) >= 0 and fillPath[loc1 - 5 + x] < fillPath[loc1] and fillPath[loc1 - 5 + x] > 0:\n",
    "                                loc1 = loc1 - 5 + x\n",
    "                                continue\n",
    "                            if (loc1 - 4 + x) < 55 and (loc1 - 4 + x) >= 0 and fillPath[loc1 - 4 + x] < fillPath[loc1] and fillPath[loc1 - 4 + x] > 0:\n",
    "                                loc1 = loc1 - 4 + x\n",
    "                                continue\n",
    "                            \n",
    "                            if (loc1 + 5 + x) < 55 and (loc1 + 5 + x) >= 0 and fillPath[loc1 + 5 + x] < fillPath[loc1] and fillPath[loc1 + 5 + x] > 0:\n",
    "                                loc1 = loc1 + 5 + x\n",
    "                                continue\n",
    "                            if (loc1 + 6 + x) < 55 and (loc1 + 6 + x) >= 0 and fillPath[loc1 + 6 + x] < fillPath[loc1] and fillPath[loc1 + 6 + x] > 0:\n",
    "                                loc1 = loc1 + 6 + x\n",
    "                                continue\n",
    "                            \n",
    "                            \n",
    "                        newLoc = loc1\n",
    "                        # 0 - 54 related to the gameBoard array index # the current location of the pig\n",
    "                        return newLoc, pigLoc\n",
    "                # else:\n",
    "                    # if loc == 55: # last point in array checked so if even the last index has a value of zero then there are no paths and player wins\n",
    "\n",
    "                        # return newLoc # no next move means player wins # still return pigLoc for continuity of return within the function\n",
    "        newLoc = None\n",
    "        return newLoc, pigLoc\n",
    "\n",
    "    def newBoard(self,pos):\n",
    "        global count\n",
    "        count+=1\n",
    "        newGame = Game()\n",
    "        newGame.chosenMoves = self.chosenMoves.copy()\n",
    "        newGame.gameBoard = self.gameBoard.copy()\n",
    "        if self.moves > 1:\n",
    "            newGame.moves = self.moves - 1\n",
    "            newGame.gameBoard[pos] = 1\n",
    "            newGame.chosenMoves.append(pos)\n",
    "        else:\n",
    "            newGame.gameBoard[pos] = 1\n",
    "            newGame.chosenMoves.append(pos)\n",
    "            NewPig , OldPig = newGame.pigNextMoveFF()\n",
    "            if NewPig ==None:\n",
    "                print(\"solution is \", newGame.chosenMoves)\n",
    "                return newGame\n",
    "            #print(NewPig,\"PigisHere\")\n",
    "            newGame.gameBoard[OldPig] = 0\n",
    "            newGame.gameBoard[NewPig] = 2\n",
    "            #print(\"placing pig at \" ,NewPig)\n",
    "            newGame.moves = 1\n",
    "        return newGame\n",
    "    def sortedlist(self):\n",
    "        arr = self.possibleMoves()\n",
    "        organarr = []\n",
    "        start = 27\n",
    "        if start in arr:\n",
    "            organarr.append(start)\n",
    "        for x in range(1,28):\n",
    "            if start - x in arr:\n",
    "                organarr.append(start - x)\n",
    "            if start + x in arr:\n",
    "                organarr.append(start + x)\n",
    "        return organarr\n",
    "    def solve(self,depth):\n",
    "        #see if current Version is solved\n",
    "        #print(self.level)\n",
    "        num = 0\n",
    "        if self.won() == True:\n",
    "            print(\"Won\")\n",
    "            return self.chosenMoves\n",
    "\n",
    "        for x in self.sortedlist():\n",
    "            if self.level >= depth:\n",
    "                break\n",
    "            #print(\"trying possible \",x)\n",
    "            new = self.newBoard(x)\n",
    "            #new = self.newBoard(26)\n",
    "            #new = new.newBoard(28)\n",
    "            #new = new.newBoard(22)\n",
    "            #return new.chosenMoves\n",
    "            #print()\n",
    "            #new.printArr(new.gameBoard)\n",
    "            #print()\n",
    "            \n",
    "            if new.won():\n",
    "                #print(new.chosenMoves)\n",
    "                return new.chosenMoves\n",
    "            new.level = self.level + 1\n",
    "            if new.level ==1:\n",
    "                #print(num, count)\n",
    "                num+=1\n",
    "                #print(new.level, \" recursion Level\")\n",
    "            if new.lost() == True:\n",
    "                #print(x ,\"didnt Work\")\n",
    "                continue\n",
    "            a = new.solve(depth)\n",
    "            if new.won():\n",
    "                print(\"won\")\n",
    "                return new.solve(depth)\n",
    "            if a!=None:\n",
    "                return a\n",
    "    def solvetoDepth(self):\n",
    "        for x in range(12):\n",
    "            a = self.solve(x)\n",
    "            if a != None:\n",
    "                return a\n",
    "            "
   ]
  },
  {
   "cell_type": "code",
   "execution_count": 68,
   "metadata": {
    "scrolled": true
   },
   "outputs": [
    {
     "name": "stdout",
     "output_type": "stream",
     "text": [
      " [0. 0. 0. 0. 1.]\n",
      "   [0. 0. 0. 1. 0.]\n",
      " [0. 0. 0. 0. 0.]\n",
      "   [0. 0. 1. 0. 0.]\n",
      " [0. 0. 0. 0. 0.]\n",
      "   [0. 0. 2. 1. 0.]\n",
      " [0. 0. 0. 0. 0.]\n",
      "   [0. 1. 1. 0. 0.]\n",
      " [0. 0. 0. 0. 0.]\n",
      "   [1. 0. 0. 1. 1.]\n",
      " [0. 0. 0. 0. 0.]\n"
     ]
    }
   ],
   "source": [
    "game = Game()\n",
    "game.generateGameBoard(1)\n",
    "game.printArr(game.gameBoard)"
   ]
  },
  {
   "cell_type": "code",
   "execution_count": 69,
   "metadata": {
    "scrolled": true
   },
   "outputs": [
    {
     "name": "stdout",
     "output_type": "stream",
     "text": [
      "(23, 27)\n"
     ]
    }
   ],
   "source": [
    "print(game.pigNextMoveFF())"
   ]
  },
  {
   "cell_type": "code",
   "execution_count": null,
   "metadata": {},
   "outputs": [],
   "source": []
  },
  {
   "cell_type": "code",
   "execution_count": 70,
   "metadata": {
    "scrolled": true
   },
   "outputs": [
    {
     "name": "stdout",
     "output_type": "stream",
     "text": [
      "solution is  [26, 25, 18, 24, 11, 15, 20, 12, 27]\n",
      "[26, 25, 18, 24, 11, 15, 20, 12, 27] solve\n"
     ]
    }
   ],
   "source": [
    "print(game.solve(12), 'solve')"
   ]
  },
  {
   "cell_type": "code",
   "execution_count": 64,
   "metadata": {},
   "outputs": [
    {
     "data": {
      "text/plain": [
       "2587902"
      ]
     },
     "execution_count": 64,
     "metadata": {},
     "output_type": "execute_result"
    }
   ],
   "source": [
    "count"
   ]
  },
  {
   "cell_type": "code",
   "execution_count": null,
   "metadata": {},
   "outputs": [],
   "source": [
    "game.printArr(game.gameBoard)"
   ]
  },
  {
   "cell_type": "code",
   "execution_count": null,
   "metadata": {},
   "outputs": [],
   "source": [
    "new = game.newBoard(26)\n",
    "new = new.newBoard(28)\n",
    "new = new.newBoard(22)"
   ]
  },
  {
   "cell_type": "code",
   "execution_count": null,
   "metadata": {},
   "outputs": [],
   "source": [
    "new.printArr(new.gameBoard)"
   ]
  },
  {
   "cell_type": "code",
   "execution_count": null,
   "metadata": {},
   "outputs": [],
   "source": [
    "new.won()"
   ]
  },
  {
   "cell_type": "code",
   "execution_count": null,
   "metadata": {},
   "outputs": [],
   "source": []
  }
 ],
 "metadata": {
  "colab": {
   "collapsed_sections": [],
   "name": "Untitled0.ipynb",
   "provenance": []
  },
  "kernelspec": {
   "display_name": "Python 3",
   "language": "python",
   "name": "python3"
  },
  "language_info": {
   "codemirror_mode": {
    "name": "ipython",
    "version": 3
   },
   "file_extension": ".py",
   "mimetype": "text/x-python",
   "name": "python",
   "nbconvert_exporter": "python",
   "pygments_lexer": "ipython3",
   "version": "3.7.5"
  }
 },
 "nbformat": 4,
 "nbformat_minor": 1
}
